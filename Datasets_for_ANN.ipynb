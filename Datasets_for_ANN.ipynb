{
  "nbformat": 4,
  "nbformat_minor": 0,
  "metadata": {
    "colab": {
      "provenance": [],
      "authorship_tag": "ABX9TyMzdLxt/mNJfeRmkKXDJcRW",
      "include_colab_link": true
    },
    "kernelspec": {
      "name": "python3",
      "display_name": "Python 3"
    },
    "language_info": {
      "name": "python"
    }
  },
  "cells": [
    {
      "cell_type": "markdown",
      "metadata": {
        "id": "view-in-github",
        "colab_type": "text"
      },
      "source": [
        "<a href=\"https://colab.research.google.com/github/fmezacr/Machine-Learning-ND/blob/master/Datasets_for_ANN.ipynb\" target=\"_parent\"><img src=\"https://colab.research.google.com/assets/colab-badge.svg\" alt=\"Open In Colab\"/></a>"
      ]
    },
    {
      "cell_type": "markdown",
      "source": [
        "# DATASET 1: Predicción de Admisiones Estudiantiles con Keras 🎓\n",
        "\n",
        "## Introducción\n",
        "Dataset que contiene información sobre las solicitudes de admisión a programas de posgrado. El objetivo es predecir si un estudiante será admitido en función de algunas características clave, como sus calificaciones y su rendimiento académico.  \n",
        "\n",
        "---\n",
        "\n",
        "## Descripción del Dataset 📊\n",
        "\n",
        "El dataset incluye información sobre **400 solicitudes** y consta de las siguientes columnas:\n",
        "\n",
        "- **GRE Score:**  \n",
        "  Puntuación obtenida por el estudiante en el examen **GRE** (Graduate Record Examination).  \n",
        "  **Rango:** 260 a 340 puntos.\n",
        "\n",
        "- **GPA Score:**  \n",
        "  Promedio de calificaciones (GPA) obtenido por el estudiante durante la licenciatura.  \n",
        "  **Rango:** 0.0 a 4.0.\n",
        "\n",
        "- **Class Rank:**  \n",
        "  Categoría del rango de clase del estudiante, agrupado en 4 niveles:  \n",
        "  **1:** Mejor rendimiento, **4:** Peor rendimiento.\n",
        "\n",
        "- **Admitido (Label):**  \n",
        "  Variable binaria que indica si el estudiante fue admitido o no:  \n",
        "  **1** – Admitido  \n",
        "  **0** – No admitido\n",
        "\n",
        "---\n",
        "\n"
      ],
      "metadata": {
        "id": "a4egvC_vydYy"
      }
    },
    {
      "cell_type": "code",
      "execution_count": 5,
      "metadata": {
        "colab": {
          "base_uri": "https://localhost:8080/"
        },
        "id": "s5E9dBX1BF7X",
        "outputId": "4a528591-f2be-42c8-84bf-af0256dae7b5"
      },
      "outputs": [
        {
          "output_type": "stream",
          "name": "stdout",
          "text": [
            "Dataset cargado con éxito.\n",
            "   admit  gre   gpa  rank\n",
            "0      0  380  3.61     3\n",
            "1      1  660  3.67     3\n",
            "2      1  800  4.00     1\n",
            "3      1  640  3.19     4\n",
            "4      0  520  2.93     4\n"
          ]
        }
      ],
      "source": [
        "import pandas as pd\n",
        "\n",
        "# Cargar el dataset desde una URL alternativa\n",
        "grades = \"https://stats.idre.ucla.edu/stat/data/binary.csv\"\n",
        "\n",
        "try:\n",
        "    bike_data = pd.read_csv(grades)\n",
        "    print(\"Dataset cargado con éxito.\")\n",
        "    print(bike_data.head())\n",
        "except Exception as e:\n",
        "    print(f\"Ocurrió un error al cargar el dataset: {e}\")\n"
      ]
    },
    {
      "cell_type": "markdown",
      "source": [
        "# DATASET 2: Predicción de Uso de Bicicletas Compartidas 🚴‍♂️\n",
        "\n",
        "## Introducción\n",
        "El **Bike Sharing Dataset** se usa para analizar y predecir la demanda de bicicletas compartidas en diferentes momentos del día en Washington D.C. Este dataset es ideal para explorar **regresión y análisis de series temporales** debido a la naturaleza horaria de los datos.\n",
        "\n",
        "El objetivo principal será construir un modelo para predecir la cantidad de bicicletas alquiladas, utilizando tanto **factores climáticos** como información **temporal**. Además, exploraremos patrones que nos ayudarán a entender la demanda en diferentes condiciones.\n",
        "\n",
        "---\n",
        "\n",
        "## Descripción del Dataset 📊\n",
        "\n",
        "El **Bike Sharing Dataset** contiene datos **agregados por hora y por día**. Los datos por hora son especialmente útiles para entender patrones de uso diarios, mientras que los datos diarios ayudan a observar tendencias a lo largo del tiempo.\n",
        "\n",
        "### **Columnas Principales:**\n",
        "\n",
        "| **Columna**      | **Descripción**                                          |\n",
        "|------------------|-----------------------------------------------------------|\n",
        "| `instant`        | Índice del registro.                                      |\n",
        "| `dteday`         | Fecha del registro.                                       |\n",
        "| `season`         | Temporada (1: Invierno, 2: Primavera, 3: Verano, 4: Otoño). |\n",
        "| `yr`             | Año (0: 2011, 1: 2012).                                   |\n",
        "| `mnth`           | Mes (1 a 12).                                             |\n",
        "| `hr`             | Hora del día (0 a 23).                                    |\n",
        "| `holiday`        | ¿Es un día festivo? (0: No, 1: Sí).                       |\n",
        "| `weekday`        | Día de la semana (0: Domingo, 6: Sábado).                 |\n",
        "| `workingday`     | ¿Es un día laboral? (0: No, 1: Sí).                       |\n",
        "| `weathersit`     | Condiciones climáticas (1: Claro, 4: Lluvia intensa).     |\n",
        "| `temp`           | Temperatura normalizada (valor entre 0 y 1).              |\n",
        "| `atemp`          | Sensación térmica normalizada (valor entre 0 y 1).        |\n",
        "| `hum`            | Humedad relativa (valor entre 0 y 1).                     |\n",
        "| `windspeed`      | Velocidad del viento normalizada (valor entre 0 y 1).     |\n",
        "| `casual`         | Número de usuarios casuales (no registrados).             |\n",
        "| `registered`     | Número de usuarios registrados.                           |\n",
        "| `cnt`            | Total de bicicletas alquiladas (casual + registered).     |\n",
        "\n",
        "---\n",
        "\n",
        "## Objetivo del Proyecto 🚀\n",
        "\n",
        "El objetivo es construir un modelo de **regresión** que prediga el número total de bicicletas alquiladas en función de variables como la **hora del día**, **temperatura**, **condiciones meteorológicas** y **día de la semana**. Con esto, aprenderemos a:\n",
        "\n",
        "1. **Preparar los datos** para su análisis y modelado.\n",
        "2. **Visualizar patrones** en el uso de bicicletas según diferentes variables.\n",
        "3. **Entrenar y validar un modelo de regresión** para hacer predicciones.\n",
        "4. **Evaluar el desempeño** del modelo y ajustar sus hiperparámetros.\n",
        "\n",
        "---\n"
      ],
      "metadata": {
        "id": "Sufg1dwxy-6W"
      }
    },
    {
      "cell_type": "code",
      "source": [
        "import pandas as pd\n",
        "\n",
        "# Cargar el dataset desde una URL alternativa\n",
        "bikes = \"https://raw.githubusercontent.com/fmezacr/DataScienceTEC/refs/heads/master/hour.csv\"\n",
        "\n",
        "try:\n",
        "    bike_data = pd.read_csv(bikes)\n",
        "    print(\"Dataset cargado con éxito.\")\n",
        "    print(bike_data.head())\n",
        "except Exception as e:\n",
        "    print(f\"Ocurrió un error al cargar el dataset: {e}\")\n",
        "\n"
      ],
      "metadata": {
        "colab": {
          "base_uri": "https://localhost:8080/"
        },
        "id": "owsztEri2TMP",
        "outputId": "42b429f9-1814-4dc1-ef59-1e481549b996"
      },
      "execution_count": 6,
      "outputs": [
        {
          "output_type": "stream",
          "name": "stdout",
          "text": [
            "Dataset cargado con éxito.\n",
            "   instant      dteday  season  yr  mnth  hr  holiday  weekday  workingday  \\\n",
            "0        1  2011-01-01       1   0     1   0        0        6           0   \n",
            "1        2  2011-01-01       1   0     1   1        0        6           0   \n",
            "2        3  2011-01-01       1   0     1   2        0        6           0   \n",
            "3        4  2011-01-01       1   0     1   3        0        6           0   \n",
            "4        5  2011-01-01       1   0     1   4        0        6           0   \n",
            "\n",
            "   weathersit  temp   atemp   hum  windspeed  casual  registered  cnt  \n",
            "0           1  0.24  0.2879  0.81        0.0       3          13   16  \n",
            "1           1  0.22  0.2727  0.80        0.0       8          32   40  \n",
            "2           1  0.22  0.2727  0.80        0.0       5          27   32  \n",
            "3           1  0.24  0.2879  0.75        0.0       3          10   13  \n",
            "4           1  0.24  0.2879  0.75        0.0       0           1    1  \n"
          ]
        }
      ]
    }
  ]
}